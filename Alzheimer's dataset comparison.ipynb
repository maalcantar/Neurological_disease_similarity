{
 "cells": [
  {
   "cell_type": "markdown",
   "metadata": {},
   "source": [
    "# Alzheimer's disease dataset analysis and comparison\n",
    "\n",
    "Obtaining and comparing gene sets thought to be compromised in Alzheimer's disease patients. "
   ]
  },
  {
   "cell_type": "code",
   "execution_count": 14,
   "metadata": {
    "collapsed": true
   },
   "outputs": [],
   "source": [
    "# Importing packages\n",
    "import pandas as pd\n",
    "import numpy as np\n",
    "from matplotlib import pyplot as plt\n",
    "import string\n"
   ]
  },
  {
   "cell_type": "code",
   "execution_count": 68,
   "metadata": {
    "collapsed": false
   },
   "outputs": [],
   "source": [
    "# Loading samples - Alzheimer's disease\n",
    "ADsamples_Upenn_df = pd.read_table('AD_Upenn_prot.txt',index_col=0) \n",
    "ADsamples_Banner_df = pd.read_table('AD_Banner_prot.txt',index_col=0)\n",
    "# AD_synap_plasticity = pd.read_csv('GO_REGULATION_OF_SYNAPTIC_PLASTICITY.csv', index_col = 0)\n",
    "\n",
    "# AD_synap_plasticity\n",
    "# ADsamples_Upenn_df\n",
    "# ADsamples_Banner_df"
   ]
  },
  {
   "cell_type": "code",
   "execution_count": 71,
   "metadata": {
    "collapsed": false
   },
   "outputs": [],
   "source": [
    "# Importing genes from GO_REGULATION_OF_SYNAPTIC_PLASTICITY and creating list of genes\n",
    "\n",
    "import csv\n",
    "\n",
    "with open('GO_REGULATION_OF_SYNAPTIC_PLASTICITY.csv', 'r') as f:\n",
    "    reader = csv.reader(f)\n",
    "    gene_list_raw = list(reader)\n",
    "\n",
    "gene_list_SP = []\n",
    "for gene in gene_list_raw:\n",
    "    gene_list_SP.append(gene[0]) "
   ]
  },
  {
   "cell_type": "code",
   "execution_count": 86,
   "metadata": {
    "collapsed": false
   },
   "outputs": [
    {
     "name": "stdout",
     "output_type": "stream",
     "text": [
      "76\n"
     ]
    }
   ],
   "source": [
    "# Taking intersection of all gene lists\n",
    "\n",
    "# Lists from Alzheimer's data sets \n",
    "ADsamples_UPenn_gene_list = list(ADsamples_Upenn_df.columns.values)\n",
    "ADsamples_Banner_gene_list = list(ADsamples_Banner_df.columns.values)\n",
    "\n",
    "# taking intersection of lists\n",
    "AD_genes_SP_intersection = list(set(gene_list_SP).intersection(ADsamples_UPenn_gene_list, ADsamples_Banner_gene_list))\n",
    "\n",
    "print(len(AD_genes_SP_intersection))"
   ]
  },
  {
   "cell_type": "code",
   "execution_count": 99,
   "metadata": {
    "collapsed": false
   },
   "outputs": [
    {
     "name": "stdout",
     "output_type": "stream",
     "text": [
      "199\n",
      "1175\n"
     ]
    }
   ],
   "source": [
    "# Intersections \n",
    "\n",
    "ADsamples_UPenn_gene_intersec_df = ADsamples_Upenn_df[AD_genes_SP_intersection]\n",
    "ADsamples_Banner_gene_intersec_df = ADsamples_Banner_df[AD_genes_SP_intersection]\n",
    "\n",
    "# number of NaN values\n",
    "print(ADsamples_UPenn_gene_intersec_df.isnull().sum().sum())\n",
    "print(ADsamples_Banner_gene_intersec_df.isnull().sum().sum())"
   ]
  }
 ],
 "metadata": {
  "anaconda-cloud": {},
  "kernelspec": {
   "display_name": "Python [conda root]",
   "language": "python",
   "name": "conda-root-py"
  },
  "language_info": {
   "codemirror_mode": {
    "name": "ipython",
    "version": 3
   },
   "file_extension": ".py",
   "mimetype": "text/x-python",
   "name": "python",
   "nbconvert_exporter": "python",
   "pygments_lexer": "ipython3",
   "version": "3.5.2"
  }
 },
 "nbformat": 4,
 "nbformat_minor": 1
}
