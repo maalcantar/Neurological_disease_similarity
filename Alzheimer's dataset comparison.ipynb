{
 "cells": [
  {
   "cell_type": "markdown",
   "metadata": {},
   "source": [
    "# Alzheimer's disease dataset analysis and comparison\n",
    "\n",
    "Obtaining and comparing gene sets thought to be compromised in Alzheimer's disease patients. "
   ]
  },
  {
   "cell_type": "code",
   "execution_count": 1,
   "metadata": {
    "collapsed": true
   },
   "outputs": [],
   "source": [
    "# Importing packages\n",
    "import pandas as pd\n",
    "import numpy as np\n",
    "from matplotlib import pyplot as plt\n",
    "import string\n"
   ]
  },
  {
   "cell_type": "markdown",
   "metadata": {},
   "source": [
    "### Calculating difference between matrices using orignal data set"
   ]
  },
  {
   "cell_type": "code",
   "execution_count": 109,
   "metadata": {
    "collapsed": false
   },
   "outputs": [],
   "source": [
    "# Loading samples - Alzheimer's disease\n",
    "ADsamples_Upenn_df = pd.read_table('AD_Upenn_prot.txt',index_col=0)  # Upenn data\n",
    "ADsamples_Banner_df = pd.read_table('AD_Banner_prot.txt',index_col=0)  # Banner data\n",
    "# AD_synap_plasticity = pd.read_csv('GO_REGULATION_OF_SYNAPTIC_PLASTICITY.csv', index_col = 0)\n",
    "\n",
    "# AD_synap_plasticity\n",
    "# ADsamples_Upenn_df\n",
    "# ADsamples_Banner_df"
   ]
  },
  {
   "cell_type": "code",
   "execution_count": 3,
   "metadata": {
    "collapsed": false
   },
   "outputs": [],
   "source": [
    "# Importing genes from GO_REGULATION_OF_SYNAPTIC_PLASTICITY and creating list of genes\n",
    "\n",
    "import csv\n",
    "\n",
    "# placing all genes into a list of lists\n",
    "with open('GO_REGULATION_OF_SYNAPTIC_PLASTICITY.csv', 'r') as f:\n",
    "    reader = csv.reader(f)\n",
    "    gene_list_raw = list(reader)\n",
    "\n",
    "# creating list of genes\n",
    "gene_list_SP = []\n",
    "for gene in gene_list_raw:\n",
    "    gene_list_SP.append(gene[0]) "
   ]
  },
  {
   "cell_type": "code",
   "execution_count": 85,
   "metadata": {
    "collapsed": false
   },
   "outputs": [
    {
     "name": "stdout",
     "output_type": "stream",
     "text": [
      "Number of genes in intersection:  44\n"
     ]
    }
   ],
   "source": [
    "# Taking intersection of all gene lists\n",
    "\n",
    "# Lists from Alzheimer's data sets \n",
    "ADsamples_UPenn_gene_list = list(ADsamples_Upenn_df.dropna(axis='columns').columns.values)\n",
    "ADsamples_Banner_gene_list = list(ADsamples_Banner_df.dropna(axis='columns').columns.values)\n",
    "\n",
    "# taking intersection of lists - dropping NaN values\n",
    "AD_genes_SP_intersection = list(set(gene_list_SP).intersection(ADsamples_UPenn_gene_list, ADsamples_Banner_gene_list))\n",
    "\n",
    "print('Number of genes in intersection: ',len(AD_genes_SP_intersection))"
   ]
  },
  {
   "cell_type": "code",
   "execution_count": 146,
   "metadata": {
    "collapsed": false
   },
   "outputs": [
    {
     "name": "stdout",
     "output_type": "stream",
     "text": [
      "Number of NaN values:  0\n",
      "Number of NaN values:  0\n",
      "Shape of UPenn data:  (24, 44)\n",
      "Shape of Banner data:  (225, 44)\n"
     ]
    }
   ],
   "source": [
    "# Intersections - dropping NaN values\n",
    "\n",
    "ADsamples_UPenn_gene_intersec_df = ADsamples_Upenn_df[AD_genes_SP_intersection]\n",
    "ADsamples_Banner_gene_intersec_df = ADsamples_Banner_df[AD_genes_SP_intersection]\n",
    "\n",
    "# number of NaN values\n",
    "print('Number of NaN values: ',ADsamples_UPenn_gene_intersec_df.isnull().sum().sum())\n",
    "print('Number of NaN values: ',ADsamples_Banner_gene_intersec_df.isnull().sum().sum())\n",
    "print('Shape of UPenn data: ',ADsamples_UPenn_gene_intersec_df.shape)\n",
    "print('Shape of Banner data: ',ADsamples_Banner_gene_intersec_df.shape )\n",
    "\n",
    "# number of samples x genes with NaN values\n",
    "# print(ADsamples_UPenn_gene_intersec_df.loc[:, ADsamples_UPenn_gene_intersec_df.isna().any()].shape)\n",
    "# print(ADsamples_Banner_gene_intersec_df.loc[:, ADsamples_Banner_gene_intersec_df.isna().any()].shape)\n",
    "\n",
    "# ADsamples_UPenn_gene_intersec_final_df = ADsamples_UPenn_gene_intersec_df.dropna(axis='columns')\n",
    "# ADsamples_Banner_gene_intersec_final_df = ADsamples_Banner_gene_intersec_df.dropna(axis='columns')"
   ]
  },
  {
   "cell_type": "code",
   "execution_count": 89,
   "metadata": {
    "collapsed": false
   },
   "outputs": [
    {
     "name": "stdout",
     "output_type": "stream",
     "text": [
      "Are the genes and gene order in both data sets the same:  True\n"
     ]
    }
   ],
   "source": [
    "# Checking to make sure gene orders are the same\n",
    "ADsample_UPenn_gene_order_check = list(ADsamples_UPenn_gene_intersec_df.columns.values)\n",
    "ADsamples_Banner_gene_order_check = list(ADsamples_Banner_gene_intersec_df.columns.values)\n",
    "\n",
    "\n",
    "print('Are the genes and gene order in both data sets the same: ',ADsample_UPenn_gene_order_check == ADsamples_Banner_gene_order_check)"
   ]
  },
  {
   "cell_type": "code",
   "execution_count": 92,
   "metadata": {
    "collapsed": false
   },
   "outputs": [
    {
     "name": "stdout",
     "output_type": "stream",
     "text": [
      "Shape of gene x gene covariance matrix (UPenn):  (44, 44)\n",
      "Shape of gene x gene covariance matrix (Banner):  (44, 44)\n"
     ]
    }
   ],
   "source": [
    "# Transposing data matrices and obtaining covariance matrix\n",
    "ADsamples_UPenn_gene_intersec_df_transpose = ADsamples_UPenn_gene_intersec_df.transpose()\n",
    "ADsamples_Banner_gene_intersec_df_transpose = ADsamples_Banner_gene_intersec_df.transpose()\n",
    "\n",
    "# calculating covariance matrix\n",
    "ADsamples_UPenn_gene_intersec_cov = np.cov(ADsamples_UPenn_gene_intersec_df_transpose)\n",
    "ADsamples_Banner_gene_intersec_cov = np.cov(ADsamples_Banner_gene_intersec_df_transpose)\n",
    "\n",
    "# making sure matrices are gene x gene \n",
    "print('Shape of gene x gene covariance matrix (UPenn): ',ADsamples_UPenn_gene_intersec_cov.shape)\n",
    "print('Shape of gene x gene covariance matrix (Banner): ',ADsamples_Banner_gene_intersec_cov.shape)\n",
    "\n"
   ]
  },
  {
   "cell_type": "code",
   "execution_count": 98,
   "metadata": {
    "collapsed": false
   },
   "outputs": [
    {
     "name": "stdout",
     "output_type": "stream",
     "text": [
      "Euclidean norm of original data set:  3.229698172767606e+21\n"
     ]
    }
   ],
   "source": [
    "# Calculating Euclidean norm\n",
    "\n",
    "euclidean_norm_original = np.linalg.norm(ADsamples_UPenn_gene_intersec_cov - ADsamples_Banner_gene_intersec_cov)\n",
    "print('Euclidean norm of original data set: ',euclidean_norm_original)"
   ]
  },
  {
   "cell_type": "markdown",
   "metadata": {},
   "source": [
    "### Calculating difference between datasets with permuted samples"
   ]
  },
  {
   "cell_type": "code",
   "execution_count": 271,
   "metadata": {
    "collapsed": false
   },
   "outputs": [
    {
     "data": {
      "image/png": "[encoded data removed]",
      "text/plain": [
       "<matplotlib.figure.Figure at 0x1a1a5118048>"
      ]
     },
     "metadata": {},
     "output_type": "display_data"
    },
    {
     "name": "stdout",
     "output_type": "stream",
     "text": [
      "z-score for euclidean distance of non-permuted samples:  3.1245596767403203\n"
     ]
    }
   ],
   "source": [
    "# Shuffling samples and recalculating matrix similarities\n",
    "import seaborn as sns  # for nicer graphics\n",
    "\n",
    "# list where shuffled euclidean distances will be added\n",
    "euclidean_distances_shuffle_samples = []\n",
    "\n",
    "# loop that shuffles samples\n",
    "for index in range(0,50000):\n",
    "    # concatenating dataframes so we can randomly samples from whole pool\n",
    "    ADsamples_concat_frames_temp = [ADsamples_UPenn_gene_intersec_df, ADsamples_Banner_gene_intersec_df] \n",
    "    ADsamples_concat_df_temp = pd.concat(ADsamples_concat_frames_temp)\n",
    "\n",
    "    # shuffling samples -- 24 samples goes to first matrix; 225 goes to second matrix\n",
    "    ADsamples_permute_temp = ADsamples_concat_df_temp.sample(n = 249)\n",
    "    ADsamples_UPenn_permute_transpose_temp = ADsamples_permute_temp[0:24].transpose()\n",
    "    ADsamples_Banner_permute_transpose_temp = ADsamples_permute_temp[24:].transpose()\n",
    "\n",
    "    # calculating covariance matrices\n",
    "    ADsamples_Upenn_permute_cov_temp = np.cov(ADsamples_UPenn_permute_transpose_temp)\n",
    "    ADsamples_Banner_permute_cov_temp = np.cov(ADsamples_Banner_permute_transpose_temp)\n",
    "\n",
    "    # calculating euclidean distance\n",
    "    euclidean_norm_original_temp = np.linalg.norm(ADsamples_Upenn_permute_cov_temp - ADsamples_Banner_permute_cov_temp)\n",
    "    # placing calculated euclidean distance into list\n",
    "    euclidean_distances_shuffle_samples.append(euclidean_norm_original_temp)\n",
    "\n",
    "# placing value from non-permuted matrices into list\n",
    "original_value = euclidean_norm_original\n",
    "euclidean_distances_shuffle_samples.append(original_value)\n",
    "\n",
    "# plotting histogram\n",
    "num_bins = 50\n",
    "\n",
    "fig, ax = plt.subplots(figsize=(12, 9))\n",
    "ax.spines[\"top\"].set_visible(False)  \n",
    "ax.spines[\"right\"].set_visible(False)\n",
    "\n",
    "ax.get_xaxis().tick_bottom()  \n",
    "ax.get_yaxis().tick_left() \n",
    "\n",
    "plt.xticks(fontsize=14)  \n",
    "plt.yticks(fontsize=14) \n",
    "\n",
    "plt.xlabel(\"Euclidean distance of covariance matrix\", fontsize=20)  \n",
    "plt.ylabel(\"Occurences\", fontsize=20)\n",
    "\n",
    "plt.title('Gene covariance similarity: permuting samples', fontsize=26)\n",
    "\n",
    "\n",
    "# histogram of the data\n",
    "n, bins, patches = ax.hist(euclidean_distances_shuffle_samples, 100, density=1,color=\"#3F5D7D\")\n",
    "\n",
    "# adding'best fit' line\n",
    "y = ((1 / (np.sqrt(2 * np.pi) * np.std(euclidean_distances_shuffle_samples))) *\n",
    "     np.exp(-0.5 * (1 / np.std(euclidean_distances_shuffle_samples) * (bins - np.mean(euclidean_distances_shuffle_samples)))**2))\n",
    "ax.plot(bins, y, '--',color = '#000000')\n",
    "\n",
    "# creating vertical line showing where original data lies on distribution\n",
    "plt.axvline(euclidean_norm_original, color='r', linestyle='-', linewidth=2)\n",
    "\n",
    "fig.tight_layout()\n",
    "plt.show()\n",
    "\n",
    "\n",
    "z_score = (euclidean_norm_original - np.mean(euclidean_distances_shuffle_samples)) / np.std(euclidean_distances_shuffle_samples)\n",
    "print('z-score for euclidean distance of non-permuted samples: ', z_score)"
   ]
  },
  {
   "cell_type": "markdown",
   "metadata": {},
   "source": [
    "### Calculating difference between datasets with randomly selected genes"
   ]
  },
  {
   "cell_type": "code",
   "execution_count": 273,
   "metadata": {
    "collapsed": false
   },
   "outputs": [
    {
     "data": {
      "text/plain": [
       "1663"
      ]
     },
     "execution_count": 273,
     "metadata": {},
     "output_type": "execute_result"
    }
   ],
   "source": [
    "# creating list of genes without any associated NaN values\n",
    "ADsamples_UPenn_gene_list_gpermute = list(ADsamples_Upenn_df.dropna(axis='columns').columns.values)\n",
    "ADsamples_Banner_gene_list_gpermute = list(ADsamples_Banner_df.dropna(axis='columns').columns.values)\n",
    "\n",
    "# finding intersection of genes without NaN values\n",
    "genes_permute = set(ADsamples_UPenn_gene_list_gpermute).intersection(ADsamples_Banner_gene_list_gpermute)\n",
    "\n"
   ]
  }
 ],
 "metadata": {
  "anaconda-cloud": {},
  "kernelspec": {
   "display_name": "Python [conda root]",
   "language": "python",
   "name": "conda-root-py"
  },
  "language_info": {
   "codemirror_mode": {
    "name": "ipython",
    "version": 3
   },
   "file_extension": ".py",
   "mimetype": "text/x-python",
   "name": "python",
   "nbconvert_exporter": "python",
   "pygments_lexer": "ipython3",
   "version": "3.5.2"
  }
 },
 "nbformat": 4,
 "nbformat_minor": 1
}
